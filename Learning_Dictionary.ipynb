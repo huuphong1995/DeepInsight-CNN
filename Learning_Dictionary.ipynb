{
  "nbformat": 4,
  "nbformat_minor": 0,
  "metadata": {
    "colab": {
      "provenance": [],
      "authorship_tag": "ABX9TyNtHBZhEk00k7WZ4/At3NRS",
      "include_colab_link": true
    },
    "kernelspec": {
      "name": "python3",
      "display_name": "Python 3"
    },
    "language_info": {
      "name": "python"
    }
  },
  "cells": [
    {
      "cell_type": "markdown",
      "metadata": {
        "id": "view-in-github",
        "colab_type": "text"
      },
      "source": [
        "<a href=\"https://colab.research.google.com/github/huuphong1995/hello-world/blob/master/Learning_Dictionary.ipynb\" target=\"_parent\"><img src=\"https://colab.research.google.com/assets/colab-badge.svg\" alt=\"Open In Colab\"/></a>"
      ]
    },
    {
      "cell_type": "markdown",
      "source": [
        "Python for Data 7: Dictionaries and Sets"
      ],
      "metadata": {
        "id": "5E4vNb-npy1z"
      }
    },
    {
      "cell_type": "markdown",
      "source": [
        "Dictionaries and sets are unordered Python data structures that solve this issue using a technique called hashing. We won't go into the details of their implementation, but dictionaries and sets let you check whether they contain objects without having to search through each element one at a time, at the cost of having no order and using a bit more system memory."
      ],
      "metadata": {
        "id": "rMpr1s1gp32o"
      }
    },
    {
      "cell_type": "code",
      "source": [
        "my_list = [1,2,3,4,5,6,7,8,9,10]\n",
        "\n",
        "0 in my_list"
      ],
      "metadata": {
        "id": "lmHzuhLJp4pe"
      },
      "execution_count": null,
      "outputs": []
    },
    {
      "cell_type": "code",
      "source": [
        "# Declare a dictionary \n",
        "my_dict = {\"name\": \"Joe\",\n",
        "           \"age\": 10, \n",
        "           \"city\": \"Paris\"}\n",
        "\n",
        "print(my_dict)"
      ],
      "metadata": {
        "id": "8gVQQBClqIRH"
      },
      "execution_count": null,
      "outputs": []
    },
    {
      "cell_type": "code",
      "source": [
        "my_dict[\"name\"]"
      ],
      "metadata": {
        "id": "sWtou157qpQW"
      },
      "execution_count": null,
      "outputs": []
    },
    {
      "cell_type": "code",
      "source": [
        "my_dict[\"new_key\"] = \"new_value\"\n",
        "\n",
        "print(my_dict)"
      ],
      "metadata": {
        "id": "10OVuuOSq111"
      },
      "execution_count": null,
      "outputs": []
    },
    {
      "cell_type": "code",
      "source": [
        "len(my_dict)"
      ],
      "metadata": {
        "id": "7ej9iN38rGJA"
      },
      "execution_count": null,
      "outputs": []
    },
    {
      "cell_type": "code",
      "source": [
        "# You can access all the keys, all the values or all the key: value pairs of a dictionary with the keys(), value() and items() functions respectively:\n",
        "my_dict.keys()\n",
        "my_dict.values()\n",
        "my_dict.items()"
      ],
      "metadata": {
        "id": "GLaXvYdfr7WD"
      },
      "execution_count": null,
      "outputs": []
    },
    {
      "cell_type": "code",
      "source": [
        "my_table_dict = {\"name\": [\"Joe\", \"Bob\", \"Harry\"],\n",
        "                 \"age\": [10,15,20] , \n",
        "                 \"city\": [\"Paris\", \"New York\", \"Tokyo\"]}\n",
        "my_table_dict"
      ],
      "metadata": {
        "colab": {
          "base_uri": "https://localhost:8080/"
        },
        "id": "fH0JHkLGr_1F",
        "outputId": "3d1bd502-05bb-455d-c20a-1cf094736230"
      },
      "execution_count": 1,
      "outputs": [
        {
          "output_type": "execute_result",
          "data": {
            "text/plain": [
              "{'name': ['Joe', 'Bob', 'Harry'],\n",
              " 'age': [10, 15, 20],\n",
              " 'city': ['Paris', 'New York', 'Tokyo']}"
            ]
          },
          "metadata": {},
          "execution_count": 1
        }
      ]
    },
    {
      "cell_type": "markdown",
      "source": [
        "Sets"
      ],
      "metadata": {
        "id": "5OzTbum58L1y"
      }
    },
    {
      "cell_type": "code",
      "source": [
        "# declare a sets\n",
        "\n",
        "my_set = {1,2,3,4,5,6,7}\n",
        "\n",
        "type(my_set)"
      ],
      "metadata": {
        "colab": {
          "base_uri": "https://localhost:8080/"
        },
        "id": "27fDGfW98OFd",
        "outputId": "e7450a50-f9be-4fc1-e027-554d42e30fbd"
      },
      "execution_count": 7,
      "outputs": [
        {
          "output_type": "execute_result",
          "data": {
            "text/plain": [
              "set"
            ]
          },
          "metadata": {},
          "execution_count": 7
        }
      ]
    },
    {
      "cell_type": "code",
      "source": [
        "# Add and remove items from a set with add() and remove() respectively:\n",
        "\n",
        "my_set.add(8)\n",
        "\n",
        "my_set.remove(7)\n",
        "\n",
        "my_set"
      ],
      "metadata": {
        "colab": {
          "base_uri": "https://localhost:8080/"
        },
        "id": "bKHXF5Zm8bCZ",
        "outputId": "141a94a3-4bb7-4d97-e983-969877c297d7"
      },
      "execution_count": 8,
      "outputs": [
        {
          "output_type": "execute_result",
          "data": {
            "text/plain": [
              "{1, 2, 3, 4, 5, 6, 8}"
            ]
          },
          "metadata": {},
          "execution_count": 8
        }
      ]
    },
    {
      "cell_type": "code",
      "source": [
        "# Sets do not support indexing, but they do support basic sequence functions like len(), min(), max() and sum()\n",
        "len(my_set)\n",
        "min(my_set)\n",
        "max(my_set)\n",
        "sum(my_set)"
      ],
      "metadata": {
        "colab": {
          "base_uri": "https://localhost:8080/"
        },
        "id": "Ud_6w32m8rvK",
        "outputId": "e7fbf521-4d7c-4903-fe83-aa0068183c96"
      },
      "execution_count": 13,
      "outputs": [
        {
          "output_type": "execute_result",
          "data": {
            "text/plain": [
              "29"
            ]
          },
          "metadata": {},
          "execution_count": 13
        }
      ]
    },
    {
      "cell_type": "code",
      "source": [
        "#  check membership and non-membership as usual with in\n",
        "6 in my_set"
      ],
      "metadata": {
        "id": "Z_wvCKHh9aap",
        "outputId": "ec9e3b41-8004-4c0f-9383-63043ba0f466",
        "colab": {
          "base_uri": "https://localhost:8080/"
        }
      },
      "execution_count": 14,
      "outputs": [
        {
          "output_type": "execute_result",
          "data": {
            "text/plain": [
              "True"
            ]
          },
          "metadata": {},
          "execution_count": 14
        }
      ]
    },
    {
      "cell_type": "code",
      "source": [
        "# compare or combine different sets\n",
        "\n",
        "set1 = {1,3,5,6}\n",
        "set2 = {1,2,3,4}\n",
        "\n",
        "set1.union(set2)  # Get the union of two sets"
      ],
      "metadata": {
        "id": "EtYc11hI9cWZ",
        "outputId": "71b88894-e231-4c40-8075-55988ae2ec5d",
        "colab": {
          "base_uri": "https://localhost:8080/"
        }
      },
      "execution_count": 16,
      "outputs": [
        {
          "output_type": "execute_result",
          "data": {
            "text/plain": [
              "{1, 2, 3, 4, 5, 6}"
            ]
          },
          "metadata": {},
          "execution_count": 16
        }
      ]
    },
    {
      "cell_type": "code",
      "source": [
        "set1.intersection(set2) # get the intersection of two setssets"
      ],
      "metadata": {
        "id": "DDMwsPkk91XA",
        "outputId": "11cd220a-6179-4424-e52d-4b7781c658d0",
        "colab": {
          "base_uri": "https://localhost:8080/"
        }
      },
      "execution_count": 18,
      "outputs": [
        {
          "output_type": "execute_result",
          "data": {
            "text/plain": [
              "{1, 3}"
            ]
          },
          "metadata": {},
          "execution_count": 18
        }
      ]
    },
    {
      "cell_type": "code",
      "source": [
        "set1.difference(set2) # get the difference btw two sets"
      ],
      "metadata": {
        "id": "1OLvo4CK9-bQ",
        "outputId": "74df5f4a-7645-4030-ae7e-01797399b852",
        "colab": {
          "base_uri": "https://localhost:8080/"
        }
      },
      "execution_count": 20,
      "outputs": [
        {
          "output_type": "execute_result",
          "data": {
            "text/plain": [
              "{5, 6}"
            ]
          },
          "metadata": {},
          "execution_count": 20
        }
      ]
    },
    {
      "cell_type": "code",
      "source": [
        "set1.issubset(set2) # check whether set1 is a subset of set2"
      ],
      "metadata": {
        "id": "xgQm43FD-QbL",
        "outputId": "2cfb881b-ed05-4959-9038-3b37248a2adc",
        "colab": {
          "base_uri": "https://localhost:8080/"
        }
      },
      "execution_count": 22,
      "outputs": [
        {
          "output_type": "execute_result",
          "data": {
            "text/plain": [
              "False"
            ]
          },
          "metadata": {},
          "execution_count": 22
        }
      ]
    },
    {
      "cell_type": "code",
      "source": [
        "# convert a list into a set using the set() function\n",
        "# Drops any duplocate elements in the listlist\n",
        "\n",
        "my_list = [1,2,2,2,3,3,4,5,5,5,6]\n",
        "\n",
        "set(my_list)\n"
      ],
      "metadata": {
        "id": "Soue_HaO-bYL",
        "outputId": "8171f337-aeca-4d54-9dec-5d6dfeaae216",
        "colab": {
          "base_uri": "https://localhost:8080/"
        }
      },
      "execution_count": 23,
      "outputs": [
        {
          "output_type": "execute_result",
          "data": {
            "text/plain": [
              "{1, 2, 3, 4, 5, 6}"
            ]
          },
          "metadata": {},
          "execution_count": 23
        }
      ]
    },
    {
      "cell_type": "markdown",
      "source": [
        "Dictionaries are general-purpose data structures capable of encoding both tabular and non-tabular data. As basic built in Python data structures, however, they lack many of the conveniences we'd like when working with tabular data, like the ability to look at summary statistics for each column and transform the data quickly and easily. In the next two lessons, we'll look at data structures available in Python packages designed for data analysis: numpy arrays and pandas DataFrames."
      ],
      "metadata": {
        "id": "f_F9w2KH-7HU"
      }
    },
    {
      "cell_type": "code",
      "source": [],
      "metadata": {
        "id": "UvJUchSg-792"
      },
      "execution_count": null,
      "outputs": []
    }
  ]
}