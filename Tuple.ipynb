{
  "nbformat": 4,
  "nbformat_minor": 0,
  "metadata": {
    "colab": {
      "provenance": [],
      "authorship_tag": "ABX9TyObJUv0hyYi20+001Qo2w5G",
      "include_colab_link": true
    },
    "kernelspec": {
      "name": "python3",
      "display_name": "Python 3"
    },
    "language_info": {
      "name": "python"
    }
  },
  "cells": [
    {
      "cell_type": "markdown",
      "metadata": {
        "id": "view-in-github",
        "colab_type": "text"
      },
      "source": [
        "<a href=\"https://colab.research.google.com/github/huuphong1995/hello-world/blob/master/Tuple.ipynb\" target=\"_parent\"><img src=\"https://colab.research.google.com/assets/colab-badge.svg\" alt=\"Open In Colab\"/></a>"
      ]
    },
    {
      "cell_type": "markdown",
      "source": [
        "Python for Data 6: Tuples and Strings\n",
        "Tuples are an immutable sequence data type that are commonly used to hold short collections of related data. For instance, if you wanted to store latitude and longitude coordinates for cities, tuples might be a good choice, because the values are related and not likely to change. Like lists, tuples can store objects of different types."
      ],
      "metadata": {
        "id": "jUVzi3K1bwr4"
      }
    },
    {
      "cell_type": "code",
      "source": [
        "my_tuple = (1,2,3)\n",
        "print(my_tuple)"
      ],
      "metadata": {
        "colab": {
          "base_uri": "https://localhost:8080/"
        },
        "id": "lTiqfkYFcXDz",
        "outputId": "2907bf01-e961-46dd-b540-e82b4a5ec35a"
      },
      "execution_count": 6,
      "outputs": [
        {
          "output_type": "stream",
          "name": "stdout",
          "text": [
            "(1, 2, 3)\n"
          ]
        }
      ]
    },
    {
      "cell_type": "code",
      "source": [
        "# Alternatively, you can construct a tuple by passing an iterable into the tuple() function:\n",
        "\n",
        "my_list = [1,2,3,4]\n",
        "\n",
        "another_tuple = tuple(my_list)\n",
        "\n",
        "another_tuple"
      ],
      "metadata": {
        "colab": {
          "base_uri": "https://localhost:8080/"
        },
        "id": "XE5viagNbzRx",
        "outputId": "b7dd748c-77f9-46ec-dffa-8e56ae4f6615"
      },
      "execution_count": 7,
      "outputs": [
        {
          "output_type": "execute_result",
          "data": {
            "text/plain": [
              "(1, 2, 3, 4)"
            ]
          },
          "metadata": {},
          "execution_count": 7
        }
      ]
    },
    {
      "cell_type": "code",
      "source": [
        "print(another_tuple[2]) # You can index into tuples\n",
        "print(another_tuple[1:3]) # You can slice tuples\n",
        "print(another_tuple[:]) # print all the value "
      ],
      "metadata": {
        "colab": {
          "base_uri": "https://localhost:8080/"
        },
        "id": "yD_hLrzqc_L5",
        "outputId": "020f118c-9cf4-490f-eade-90e703430a9f"
      },
      "execution_count": 16,
      "outputs": [
        {
          "output_type": "stream",
          "name": "stdout",
          "text": [
            "3\n",
            "(2, 3)\n",
            "(1, 2, 3, 4)\n"
          ]
        }
      ]
    },
    {
      "cell_type": "code",
      "source": [
        "# You can use common sequence functions on tuples:\n",
        "\n",
        "print( len(another_tuple))   \n",
        "print( min(another_tuple))  \n",
        "print( max(another_tuple))  \n",
        "print( sum(another_tuple))  "
      ],
      "metadata": {
        "colab": {
          "base_uri": "https://localhost:8080/"
        },
        "id": "9MxIr5G5dHGS",
        "outputId": "fe27012a-3cdf-43be-e5d1-2113f594e955"
      },
      "execution_count": 8,
      "outputs": [
        {
          "output_type": "stream",
          "name": "stdout",
          "text": [
            "4\n",
            "1\n",
            "4\n",
            "10\n"
          ]
        }
      ]
    },
    {
      "cell_type": "code",
      "source": [
        "another_tuple.append(1)    # You can't append to a tuple\n",
        "del another_tuple[1]      # You can't delete from a tuple"
      ],
      "metadata": {
        "id": "UFHCRM-TeIkq"
      },
      "execution_count": null,
      "outputs": []
    },
    {
      "cell_type": "code",
      "source": [
        "sorted(another_tuple) # sorted an tuple"
      ],
      "metadata": {
        "id": "iQLF97NteohJ"
      },
      "execution_count": null,
      "outputs": []
    },
    {
      "cell_type": "markdown",
      "source": [
        "Tuples are Immutable"
      ],
      "metadata": {
        "id": "mjTqyLyLhbZ9"
      }
    },
    {
      "cell_type": "code",
      "source": [
        "list1 = [1,2,3]\n",
        "\n",
        "tuple1 = (\"Tuples are Immutable\", list1)\n",
        "\n",
        "print(tuple1)\n",
        "\n",
        "tuple2 = tuple1[:]                       # Make a shallow copy\n",
        "\n",
        "list1.append(\"But lists are mutable\")\n",
        "\n",
        "print( tuple2 )                          # Print the copy"
      ],
      "metadata": {
        "colab": {
          "base_uri": "https://localhost:8080/"
        },
        "id": "eqv9dFFAe0u5",
        "outputId": "4e14c81e-6917-4396-e430-678d498a54e7"
      },
      "execution_count": 12,
      "outputs": [
        {
          "output_type": "stream",
          "name": "stdout",
          "text": [
            "('Tuples are Immutable', [1, 2, 3])\n",
            "('Tuples are Immutable', [1, 2, 3, 'But lists are mutable'])\n"
          ]
        }
      ]
    },
    {
      "cell_type": "code",
      "source": [
        "# To avoid this behavior, make a deepcopy using the copy library:\n",
        "import copy\n",
        "\n",
        "list1 = [1,2,3]\n",
        "\n",
        "tuple1 = (\"Tuples are Immutable\", list1)\n",
        "\n",
        "tuple2 = copy.deepcopy(tuple1)           # Make a deep copy\n",
        "\n",
        "list1.append(\"But lists are mutable\")\n",
        "\n",
        "print( tuple2 )\n",
        "print(list1)\n"
      ],
      "metadata": {
        "colab": {
          "base_uri": "https://localhost:8080/"
        },
        "id": "zH8WHjWOhhAm",
        "outputId": "cf4bf953-8e98-4a7f-c1a4-84f4760c9156"
      },
      "execution_count": 13,
      "outputs": [
        {
          "output_type": "stream",
          "name": "stdout",
          "text": [
            "('Tuples are Immutable', [1, 2, 3])\n",
            "[1, 2, 3, 'But lists are mutable']\n"
          ]
        }
      ]
    },
    {
      "cell_type": "markdown",
      "source": [
        "Strings"
      ],
      "metadata": {
        "id": "PwjQLurUh9lM"
      }
    },
    {
      "cell_type": "code",
      "source": [
        "my_string = \"hello world\"\n",
        "my_string[3]  # Get the character at index 3\n",
        "my_string[3:] # Slice from the third index to the end\n",
        "my_string[::-1] # Reverse the string"
      ],
      "metadata": {
        "colab": {
          "base_uri": "https://localhost:8080/",
          "height": 35
        },
        "id": "XiYUnZ86h_XN",
        "outputId": "f4f90282-a251-47fd-b690-cfaeb61a2c00"
      },
      "execution_count": 14,
      "outputs": [
        {
          "output_type": "execute_result",
          "data": {
            "text/plain": [
              "'dlrow olleh'"
            ],
            "application/vnd.google.colaboratory.intrinsic+json": {
              "type": "string"
            }
          },
          "metadata": {},
          "execution_count": 14
        }
      ]
    },
    {
      "cell_type": "code",
      "source": [
        "# In addition, certain sequence functions like len() and count() work on strings:\n",
        "len(my_string)"
      ],
      "metadata": {
        "colab": {
          "base_uri": "https://localhost:8080/"
        },
        "id": "bonxBLkGixvU",
        "outputId": "5792c72a-711c-4cda-f2af-696ae5c053ea"
      },
      "execution_count": 15,
      "outputs": [
        {
          "output_type": "execute_result",
          "data": {
            "text/plain": [
              "11"
            ]
          },
          "metadata": {},
          "execution_count": 15
        }
      ]
    },
    {
      "cell_type": "code",
      "source": [
        "my_string.count(\"l\") # Count the l's in the string"
      ],
      "metadata": {
        "colab": {
          "base_uri": "https://localhost:8080/"
        },
        "id": "cA3XBi8giLWF",
        "outputId": "2f84aeaf-970f-4530-c07f-0fbd84e3ae7a"
      },
      "execution_count": 16,
      "outputs": [
        {
          "output_type": "execute_result",
          "data": {
            "text/plain": [
              "3"
            ]
          },
          "metadata": {},
          "execution_count": 16
        }
      ]
    },
    {
      "cell_type": "code",
      "source": [
        "# str.lower()     \n",
        "\n",
        "my_string.lower()   # Make all characters lowercase"
      ],
      "metadata": {
        "colab": {
          "base_uri": "https://localhost:8080/",
          "height": 35
        },
        "id": "7g0tspLcjJ-E",
        "outputId": "210327e8-dc60-45b8-dcc5-faa7eb78d449"
      },
      "execution_count": 17,
      "outputs": [
        {
          "output_type": "execute_result",
          "data": {
            "text/plain": [
              "'hello world'"
            ],
            "application/vnd.google.colaboratory.intrinsic+json": {
              "type": "string"
            }
          },
          "metadata": {},
          "execution_count": 17
        }
      ]
    },
    {
      "cell_type": "code",
      "source": [
        "# str.upper()     \n",
        "\n",
        "my_string.upper()   # Make all characters uppercase"
      ],
      "metadata": {
        "colab": {
          "base_uri": "https://localhost:8080/",
          "height": 35
        },
        "id": "-yYUA-FcjN_b",
        "outputId": "cb215099-dce3-4b08-92b0-2dff832590b9"
      },
      "execution_count": 18,
      "outputs": [
        {
          "output_type": "execute_result",
          "data": {
            "text/plain": [
              "'HELLO WORLD'"
            ],
            "application/vnd.google.colaboratory.intrinsic+json": {
              "type": "string"
            }
          },
          "metadata": {},
          "execution_count": 18
        }
      ]
    },
    {
      "cell_type": "code",
      "source": [
        "# str.title()\n",
        "\n",
        "my_string.title()   # Make the first letter of each word uppercase"
      ],
      "metadata": {
        "colab": {
          "base_uri": "https://localhost:8080/",
          "height": 35
        },
        "id": "umsyR6UvjRcM",
        "outputId": "8371cc93-a2bb-4c52-fd87-ed525b7f1abe"
      },
      "execution_count": 19,
      "outputs": [
        {
          "output_type": "execute_result",
          "data": {
            "text/plain": [
              "'Hello World'"
            ],
            "application/vnd.google.colaboratory.intrinsic+json": {
              "type": "string"
            }
          },
          "metadata": {},
          "execution_count": 19
        }
      ]
    },
    {
      "cell_type": "code",
      "source": [
        "# Find the index of the first appearing substring within a string using str.find(). If the substring does not appear, find() returns -1:\n",
        "my_string.find(\"W\")"
      ],
      "metadata": {
        "colab": {
          "base_uri": "https://localhost:8080/"
        },
        "id": "r59cRO8fjUe7",
        "outputId": "447b3964-ec3a-4751-b6b9-e65d0e22c4da"
      },
      "execution_count": 20,
      "outputs": [
        {
          "output_type": "execute_result",
          "data": {
            "text/plain": [
              "-1"
            ]
          },
          "metadata": {},
          "execution_count": 20
        }
      ]
    },
    {
      "cell_type": "code",
      "source": [
        "my_string.replace(\"world\",    # Substring to replace\n",
        "                  \"friend\")   # New substring"
      ],
      "metadata": {
        "colab": {
          "base_uri": "https://localhost:8080/",
          "height": 35
        },
        "id": "YWCAHJTXjZcd",
        "outputId": "7b279530-a9c8-475d-b5ff-d48ba671c8cf"
      },
      "execution_count": 21,
      "outputs": [
        {
          "output_type": "execute_result",
          "data": {
            "text/plain": [
              "'hello friend'"
            ],
            "application/vnd.google.colaboratory.intrinsic+json": {
              "type": "string"
            }
          },
          "metadata": {},
          "execution_count": 21
        }
      ]
    },
    {
      "cell_type": "code",
      "source": [
        "my_string.split()     # str.split() splits on spaces by default"
      ],
      "metadata": {
        "colab": {
          "base_uri": "https://localhost:8080/"
        },
        "id": "ibJOdWBajhHT",
        "outputId": "b7407fe9-ead4-4990-be3e-2716941a7814"
      },
      "execution_count": 22,
      "outputs": [
        {
          "output_type": "execute_result",
          "data": {
            "text/plain": [
              "['hello', 'world']"
            ]
          },
          "metadata": {},
          "execution_count": 22
        }
      ]
    },
    {
      "cell_type": "code",
      "source": [
        "my_string.split(\"l\")  # Supply a substring to split on other values"
      ],
      "metadata": {
        "colab": {
          "base_uri": "https://localhost:8080/"
        },
        "id": "k_6pgtgnjmUG",
        "outputId": "503d3936-d344-4f2a-8add-a21851397554"
      },
      "execution_count": 23,
      "outputs": [
        {
          "output_type": "execute_result",
          "data": {
            "text/plain": [
              "['he', '', 'o wor', 'd']"
            ]
          },
          "metadata": {},
          "execution_count": 23
        }
      ]
    },
    {
      "cell_type": "code",
      "source": [
        "# Split a multi-line string into a list of lines using str.splitlines():\n",
        "multiline_string = \"\"\"I am\n",
        "a multiline \n",
        "string!\n",
        "\"\"\"\n",
        "\n",
        "multiline_string.splitlines()"
      ],
      "metadata": {
        "colab": {
          "base_uri": "https://localhost:8080/"
        },
        "id": "DQ5NCFAsjqA0",
        "outputId": "5e492985-2390-43c1-b30e-f104998c1053"
      },
      "execution_count": 24,
      "outputs": [
        {
          "output_type": "execute_result",
          "data": {
            "text/plain": [
              "['I am', 'a multiline ', 'string!']"
            ]
          },
          "metadata": {},
          "execution_count": 24
        }
      ]
    },
    {
      "cell_type": "code",
      "source": [
        "# str.strip() removes whitespace by default\n",
        "\n",
        "\"    strip white space!   \".strip(\"     strip\")\n"
      ],
      "metadata": {
        "colab": {
          "base_uri": "https://localhost:8080/",
          "height": 35
        },
        "id": "AlXFsMNekTPc",
        "outputId": "edbf59f9-57d6-41ca-eda8-052556bdf1c0"
      },
      "execution_count": 25,
      "outputs": [
        {
          "output_type": "execute_result",
          "data": {
            "text/plain": [
              "'white space!'"
            ],
            "application/vnd.google.colaboratory.intrinsic+json": {
              "type": "string"
            }
          },
          "metadata": {},
          "execution_count": 25
        }
      ]
    },
    {
      "cell_type": "code",
      "source": [
        "\"BuyNOW\".strip(\"Buy\")"
      ],
      "metadata": {
        "colab": {
          "base_uri": "https://localhost:8080/",
          "height": 35
        },
        "id": "nN1UOtTylWea",
        "outputId": "c495445e-5d7b-47e9-b522-0ad0c7f2ca85"
      },
      "execution_count": 26,
      "outputs": [
        {
          "output_type": "execute_result",
          "data": {
            "text/plain": [
              "'NOW'"
            ],
            "application/vnd.google.colaboratory.intrinsic+json": {
              "type": "string"
            }
          },
          "metadata": {},
          "execution_count": 26
        }
      ]
    },
    {
      "cell_type": "code",
      "source": [
        "\" \".join([\"Hello\", \"World!\", \"Join\", \"Me!\"])"
      ],
      "metadata": {
        "colab": {
          "base_uri": "https://localhost:8080/",
          "height": 35
        },
        "id": "1l3pXsvmmYH6",
        "outputId": "4560a2b5-8971-408d-ac6d-d1f2fb81533a"
      },
      "execution_count": 27,
      "outputs": [
        {
          "output_type": "execute_result",
          "data": {
            "text/plain": [
              "'Hello World! Join Me!'"
            ],
            "application/vnd.google.colaboratory.intrinsic+json": {
              "type": "string"
            }
          },
          "metadata": {},
          "execution_count": 27
        }
      ]
    },
    {
      "cell_type": "code",
      "source": [
        "name = \"Phong\"\n",
        "age = 28\n",
        "city = \"Hanoi\"\n",
        "\n",
        "\"My name is \" + name + \" I am \" + str(age) + \" and i live in \" + city"
      ],
      "metadata": {
        "colab": {
          "base_uri": "https://localhost:8080/",
          "height": 35
        },
        "id": "sker6MGHmoox",
        "outputId": "630cbf78-1a69-4e91-fece-4508bc39e103"
      },
      "execution_count": 28,
      "outputs": [
        {
          "output_type": "execute_result",
          "data": {
            "text/plain": [
              "'My name is Phong I am 28 and i live in Hanoi'"
            ],
            "application/vnd.google.colaboratory.intrinsic+json": {
              "type": "string"
            }
          },
          "metadata": {},
          "execution_count": 28
        }
      ]
    },
    {
      "cell_type": "code",
      "source": [
        "template_string = \"My name is {} I am {} and I live in {}\"\n",
        "\n",
        "template_string.format(name, age, city)"
      ],
      "metadata": {
        "colab": {
          "base_uri": "https://localhost:8080/",
          "height": 35
        },
        "id": "Y-uNkA6HnZKo",
        "outputId": "df0d2e64-8e2b-4f75-f17d-4740e1b876a7"
      },
      "execution_count": 29,
      "outputs": [
        {
          "output_type": "execute_result",
          "data": {
            "text/plain": [
              "'My name is Phong I am 28 and I live in Hanoi'"
            ],
            "application/vnd.google.colaboratory.intrinsic+json": {
              "type": "string"
            }
          },
          "metadata": {},
          "execution_count": 29
        }
      ]
    },
    {
      "cell_type": "code",
      "source": [
        "# Remaking the example above using an f-string\n",
        "\n",
        "f\"My name is {name} I am {age} and I live in {city}\""
      ],
      "metadata": {
        "colab": {
          "base_uri": "https://localhost:8080/",
          "height": 35
        },
        "id": "MyuKBxGBnotw",
        "outputId": "19514687-58bf-44aa-ad86-d05826eaa9fb"
      },
      "execution_count": 30,
      "outputs": [
        {
          "output_type": "execute_result",
          "data": {
            "text/plain": [
              "'My name is Phong I am 28 and I live in Hanoi'"
            ],
            "application/vnd.google.colaboratory.intrinsic+json": {
              "type": "string"
            }
          },
          "metadata": {},
          "execution_count": 30
        }
      ]
    },
    {
      "cell_type": "code",
      "source": [],
      "metadata": {
        "id": "NwvrGgoIoOPQ"
      },
      "execution_count": 5,
      "outputs": []
    },
    {
      "cell_type": "markdown",
      "source": [
        "Wrap up"
      ],
      "metadata": {
        "id": "Ws5eT-EHoRoA"
      }
    },
    {
      "cell_type": "markdown",
      "source": [
        "Basic sequences like lists, tuples and strings appear everywhere in Python code, so it is essential to understand the basics of how they work before we can start using Python for data analysis. We're almost ready to dive into data structures designed specifically data analysis, but before we do, we need to cover two more useful built in Python data structures: dictionaries and sets."
      ],
      "metadata": {
        "id": "ofQk1FJhoU1l"
      }
    }
  ]
}