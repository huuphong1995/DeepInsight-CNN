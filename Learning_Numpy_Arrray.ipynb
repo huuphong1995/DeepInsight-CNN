{
  "nbformat": 4,
  "nbformat_minor": 0,
  "metadata": {
    "colab": {
      "provenance": [],
      "authorship_tag": "ABX9TyN9XJebncMhM2Kb7U/LlRrh",
      "include_colab_link": true
    },
    "kernelspec": {
      "name": "python3",
      "display_name": "Python 3"
    },
    "language_info": {
      "name": "python"
    }
  },
  "cells": [
    {
      "cell_type": "markdown",
      "metadata": {
        "id": "view-in-github",
        "colab_type": "text"
      },
      "source": [
        "<a href=\"https://colab.research.google.com/github/huuphong1995/hello-world/blob/master/Learning_Numpy_Arrray.ipynb\" target=\"_parent\"><img src=\"https://colab.research.google.com/assets/colab-badge.svg\" alt=\"Open In Colab\"/></a>"
      ]
    },
    {
      "cell_type": "markdown",
      "source": [
        "Numpy and Array Basics\n",
        "\n",
        "The numpy library is one of the core packages in Python's data science software stack. Many other Python data analysis libraries require numpy as a prerequisite, because they use its array data structure as a building block. The Kaggle Python environment has numpy available by default; if you are running Python locally, the Anaconda Python distribution comes with numpy as well.\n",
        "\n",
        "Numpy implements a data structure called the N-dimensional array or ndarray. ndarrays are similar to lists in that they contain a collection of items that can be accessed via indexes. On the other hand, ndarrays are homogeneous, meaning they can only contain objects of the same type and they can be multi-dimensional, making it easy to store 2-dimensional tables or matrices.\n",
        "\n"
      ],
      "metadata": {
        "id": "0vABqassCMa8"
      }
    },
    {
      "cell_type": "code",
      "source": [
        "# To work with narrays, we need to load the numpy library.\n",
        "\n",
        "import numpy as np"
      ],
      "metadata": {
        "id": "DUl0jgoJCi4k"
      },
      "execution_count": 1,
      "outputs": []
    },
    {
      "cell_type": "code",
      "source": [
        "# access the numpy library's functions using the shorthand \"np\"\n",
        "\n",
        "my_list = [1, 2, 3, 4]                      # define a list\n",
        "\n",
        "my_array = np.array(my_list)                # Pass the list to np.array()\n",
        "\n",
        "print(type(my_array))                       # Check the object's typetype\n",
        "\n",
        "print(my_array)                             "
      ],
      "metadata": {
        "id": "Mr0U-rncCSUt"
      },
      "execution_count": null,
      "outputs": []
    },
    {
      "cell_type": "code",
      "source": [
        "# To create an array with more than 1-Dimension, pass a nested list to np.array()\n",
        "\n",
        "second_list = [5,6,7,8]\n",
        "\n",
        "two_d_array = np.array([my_list, second_list])\n",
        "\n",
        "print(two_d_array)"
      ],
      "metadata": {
        "id": "8x7rMO8xDQDN"
      },
      "execution_count": null,
      "outputs": []
    },
    {
      "cell_type": "code",
      "source": [
        "two_d_array.size"
      ],
      "metadata": {
        "id": "Ni_t_gKCFbuD"
      },
      "execution_count": null,
      "outputs": []
    },
    {
      "cell_type": "code",
      "source": [
        "two_d_array.dtype"
      ],
      "metadata": {
        "colab": {
          "base_uri": "https://localhost:8080/"
        },
        "id": "Oyu_KB7FGW4g",
        "outputId": "17260d5e-68fb-4e35-9b4f-c509b8f15669"
      },
      "execution_count": 12,
      "outputs": [
        {
          "output_type": "execute_result",
          "data": {
            "text/plain": [
              "dtype('int64')"
            ]
          },
          "metadata": {},
          "execution_count": 12
        }
      ]
    },
    {
      "cell_type": "code",
      "source": [
        "# np.identity() to create a square 2d array with 1's across the diagonal\n",
        "\n",
        "np.identity(n = 5)          # Size of the array "
      ],
      "metadata": {
        "colab": {
          "base_uri": "https://localhost:8080/"
        },
        "id": "4_FnJxA1GvaY",
        "outputId": "4015948c-4687-4be7-be17-0be97be8e23c"
      },
      "execution_count": 16,
      "outputs": [
        {
          "output_type": "execute_result",
          "data": {
            "text/plain": [
              "array([[1., 0., 0., 0., 0.],\n",
              "       [0., 1., 0., 0., 0.],\n",
              "       [0., 0., 1., 0., 0.],\n",
              "       [0., 0., 0., 1., 0.],\n",
              "       [0., 0., 0., 0., 1.]])"
            ]
          },
          "metadata": {},
          "execution_count": 16
        }
      ]
    },
    {
      "cell_type": "code",
      "source": [
        "# np.eye() to create a 2d array with 1's across a specified diagonal\n",
        "\n",
        "np.eye(N = 3,  # Number of rows\n",
        "       M = 5,  # Number of columns\n",
        "       k = 1)  # Index of the diagonal (main diagonal (0) is default)"
      ],
      "metadata": {
        "id": "OPyCWcKjH3uX"
      },
      "execution_count": null,
      "outputs": []
    },
    {
      "cell_type": "code",
      "source": [
        "# np.one() to create an array filled with ones:\n",
        "\n",
        "np.ones(shape = [2,4])"
      ],
      "metadata": {
        "colab": {
          "base_uri": "https://localhost:8080/"
        },
        "id": "46i5tTlKH9L3",
        "outputId": "ddbc3bff-09ac-4d78-ecfb-f30c7c41a31d"
      },
      "execution_count": 21,
      "outputs": [
        {
          "output_type": "execute_result",
          "data": {
            "text/plain": [
              "array([[1., 1., 1., 1.],\n",
              "       [1., 1., 1., 1.]])"
            ]
          },
          "metadata": {},
          "execution_count": 21
        }
      ]
    },
    {
      "cell_type": "code",
      "source": [
        "# np.zeros() to create an array filled with zeros:\n",
        "\n",
        "np.zeros(shape = [4,6])"
      ],
      "metadata": {
        "colab": {
          "base_uri": "https://localhost:8080/"
        },
        "id": "VGv7uT7hJRns",
        "outputId": "c165f14a-e8e9-4672-ffb7-0671a38cdae2"
      },
      "execution_count": 23,
      "outputs": [
        {
          "output_type": "execute_result",
          "data": {
            "text/plain": [
              "array([[0., 0., 0., 0., 0., 0.],\n",
              "       [0., 0., 0., 0., 0., 0.],\n",
              "       [0., 0., 0., 0., 0., 0.],\n",
              "       [0., 0., 0., 0., 0., 0.]])"
            ]
          },
          "metadata": {},
          "execution_count": 23
        }
      ]
    },
    {
      "cell_type": "markdown",
      "source": [
        "Array Indexing and Slicing"
      ],
      "metadata": {
        "id": "Z4dAbbZ3JwtK"
      }
    },
    {
      "cell_type": "code",
      "source": [
        "# Numpy ndarrays offer numbered indexing and slicing syntax that mirrors the syntax for Python lists:\n",
        "\n",
        "one_d_array = np.array([1,2,3,4,5,6])\n",
        "\n",
        "one_d_array[3]        # Get the item at index 3"
      ],
      "metadata": {
        "id": "mI01HSMhJzdk"
      },
      "execution_count": null,
      "outputs": []
    },
    {
      "cell_type": "code",
      "source": [
        "one_d_array[3:]       # Get a slice from index 3 to the end"
      ],
      "metadata": {
        "colab": {
          "base_uri": "https://localhost:8080/"
        },
        "id": "YexnmzKqJuYF",
        "outputId": "5ffa1d0a-8d1e-4f15-dfec-d7c575a073e7"
      },
      "execution_count": 28,
      "outputs": [
        {
          "output_type": "execute_result",
          "data": {
            "text/plain": [
              "array([4, 5, 6])"
            ]
          },
          "metadata": {},
          "execution_count": 28
        }
      ]
    },
    {
      "cell_type": "code",
      "source": [
        "one_d_array[:3]       # get a slice from index 3 to the end"
      ],
      "metadata": {
        "colab": {
          "base_uri": "https://localhost:8080/"
        },
        "id": "g9a3GMWkKPE7",
        "outputId": "4e6f7121-4b8d-4a6b-a670-d2251d2b4276"
      },
      "execution_count": 32,
      "outputs": [
        {
          "output_type": "execute_result",
          "data": {
            "text/plain": [
              "array([1, 2, 3])"
            ]
          },
          "metadata": {},
          "execution_count": 32
        }
      ]
    },
    {
      "cell_type": "code",
      "source": [
        "one_d_array[::-1]      # Slice backwards to reverse the arrayarray"
      ],
      "metadata": {
        "colab": {
          "base_uri": "https://localhost:8080/"
        },
        "id": "UKJAUs60KS08",
        "outputId": "07ac1213-4cb7-48d5-99e6-fdc27ec12f32"
      },
      "execution_count": 33,
      "outputs": [
        {
          "output_type": "execute_result",
          "data": {
            "text/plain": [
              "array([6, 5, 4, 3, 2, 1])"
            ]
          },
          "metadata": {},
          "execution_count": 33
        }
      ]
    },
    {
      "cell_type": "code",
      "source": [
        "# If an ndarray has more than 1-Dimension, separate indexes for each dimension with a comma:\n",
        "\n",
        "two_d_array = np.array([one_d_array, one_d_array + 6, one_d_array +12])\n",
        "\n",
        "print(two_d_array)"
      ],
      "metadata": {
        "colab": {
          "base_uri": "https://localhost:8080/"
        },
        "id": "NE3FngJ5KoxF",
        "outputId": "3d08d194-2938-457f-f04c-49f5dc6a428f"
      },
      "execution_count": 35,
      "outputs": [
        {
          "output_type": "stream",
          "name": "stdout",
          "text": [
            "[[ 1  2  3  4  5  6]\n",
            " [ 7  8  9 10 11 12]\n",
            " [13 14 15 16 17 18]]\n"
          ]
        }
      ]
    },
    {
      "cell_type": "code",
      "source": [
        "# get the element at row index 1, column index 4\n",
        "\n",
        "two_d_array[1, 4]"
      ],
      "metadata": {
        "colab": {
          "base_uri": "https://localhost:8080/"
        },
        "id": "oRTbFpllLQ7L",
        "outputId": "d616edbd-0ab5-44a9-a6aa-91a23579700a"
      },
      "execution_count": 37,
      "outputs": [
        {
          "output_type": "execute_result",
          "data": {
            "text/plain": [
              "11"
            ]
          },
          "metadata": {},
          "execution_count": 37
        }
      ]
    },
    {
      "cell_type": "code",
      "source": [
        "# Reverse both dimensions (180 degree rotation)\n",
        "\n",
        "two_d_array[::-1, ::-1]"
      ],
      "metadata": {
        "colab": {
          "base_uri": "https://localhost:8080/"
        },
        "id": "FSjifkLkLuBT",
        "outputId": "24df388e-9685-4d6c-9bb4-c8e8b7323e92"
      },
      "execution_count": 39,
      "outputs": [
        {
          "output_type": "execute_result",
          "data": {
            "text/plain": [
              "array([[18, 17, 16, 15, 14, 13],\n",
              "       [12, 11, 10,  9,  8,  7],\n",
              "       [ 6,  5,  4,  3,  2,  1]])"
            ]
          },
          "metadata": {},
          "execution_count": 39
        }
      ]
    },
    {
      "cell_type": "markdown",
      "source": [
        "Reshaping Arrays"
      ],
      "metadata": {
        "id": "5HQ5KaUNMEGp"
      }
    },
    {
      "cell_type": "code",
      "source": [
        "# Numpy has a varvariety of built in functions to help you manipulate arrays quickly without having to use complicated indexing operations\n",
        "\n",
        "# Reshape an array into a new array with the same data but different structure with np.reshape():\n",
        "\n",
        "np.reshape(a =two_d_array,                   # Array to reshapereshape\n",
        "           newshape = (6,3))                 # Dimensions of the new array"
      ],
      "metadata": {
        "id": "8Ztm2uUoMFka"
      },
      "execution_count": null,
      "outputs": []
    },
    {
      "cell_type": "code",
      "source": [
        "# Unravel a multi-dimensional into 1-dimension with np.ravel()\n",
        "\n",
        "np.ravel(a = two_d_array, order = 'C')     # Use C-style unraveling (by rows)"
      ],
      "metadata": {
        "colab": {
          "base_uri": "https://localhost:8080/"
        },
        "id": "33Rri0x-NTsb",
        "outputId": "3d82ebbc-930e-47d1-d7c5-73cdbaa4d0b2"
      },
      "execution_count": 60,
      "outputs": [
        {
          "output_type": "execute_result",
          "data": {
            "text/plain": [
              "array([ 1,  2,  3,  4,  5,  6,  7,  8,  9, 10, 11, 12, 13, 14, 15, 16, 17,\n",
              "       18])"
            ]
          },
          "metadata": {},
          "execution_count": 60
        }
      ]
    },
    {
      "cell_type": "code",
      "source": [
        "# Unravel a multi-dimensional into 1-dimensional using F-style \n",
        "\n",
        "np.ravel(a = two_d_array, order ='F' )      # Use Fortran-style unraveling (by columns)"
      ],
      "metadata": {
        "colab": {
          "base_uri": "https://localhost:8080/"
        },
        "id": "7T0Z1G38N3X5",
        "outputId": "112e2fdb-45b0-4ee9-886e-6798eb9b3769"
      },
      "execution_count": 43,
      "outputs": [
        {
          "output_type": "execute_result",
          "data": {
            "text/plain": [
              "array([ 1,  7, 13,  2,  8, 14,  3,  9, 15,  4, 10, 16,  5, 11, 17,  6, 12,\n",
              "       18])"
            ]
          },
          "metadata": {},
          "execution_count": 43
        }
      ]
    },
    {
      "cell_type": "code",
      "source": [
        "# Alternatively, use ndarray.flatten() to flatten a multi-dimensional into 1 dimension and return a copy of the result\n",
        "two_d_array.flatten()"
      ],
      "metadata": {
        "id": "lydPVUnKOSuR"
      },
      "execution_count": null,
      "outputs": []
    },
    {
      "cell_type": "code",
      "source": [
        "# Get the transpose of an array with ndarray.T\n",
        "\n",
        "two_d_array.T            # change the number of rows into number of columns, number of columns into number of rows"
      ],
      "metadata": {
        "id": "5tCRPjEHOfMm"
      },
      "execution_count": null,
      "outputs": []
    },
    {
      "cell_type": "code",
      "source": [
        "# Flip an array vertically or horizontally with np.flipud() and np.fliplr() respectively\n",
        "\n",
        "np.flipud(two_d_array)"
      ],
      "metadata": {
        "colab": {
          "base_uri": "https://localhost:8080/"
        },
        "id": "nx3XyauIPD8T",
        "outputId": "8cb0fb2f-3e29-42ea-df50-bda33faa1bca"
      },
      "execution_count": 49,
      "outputs": [
        {
          "output_type": "execute_result",
          "data": {
            "text/plain": [
              "array([[13, 14, 15, 16, 17, 18],\n",
              "       [ 7,  8,  9, 10, 11, 12],\n",
              "       [ 1,  2,  3,  4,  5,  6]])"
            ]
          },
          "metadata": {},
          "execution_count": 49
        }
      ]
    },
    {
      "cell_type": "code",
      "source": [
        "np.fliplr(two_d_array)"
      ],
      "metadata": {
        "colab": {
          "base_uri": "https://localhost:8080/"
        },
        "id": "jTL5E8WoQXyN",
        "outputId": "ca6bc2b6-5f4f-4c30-a489-fea45b17c2ce"
      },
      "execution_count": 51,
      "outputs": [
        {
          "output_type": "execute_result",
          "data": {
            "text/plain": [
              "array([[ 6,  5,  4,  3,  2,  1],\n",
              "       [12, 11, 10,  9,  8,  7],\n",
              "       [18, 17, 16, 15, 14, 13]])"
            ]
          },
          "metadata": {},
          "execution_count": 51
        }
      ]
    },
    {
      "cell_type": "code",
      "source": [
        "# Rotate an array 90 degrees counter-clockwise with np.rot90()\n",
        "\n",
        "np.rot90(two_d_array, k=1)"
      ],
      "metadata": {
        "id": "5eaEg_FBRSD9"
      },
      "execution_count": null,
      "outputs": []
    },
    {
      "cell_type": "code",
      "source": [
        "# Shift elements in an array along a given dimension with np.roll()\n",
        "# axis =1 represents columns\n",
        "np.roll(a = two_d_array,\n",
        "        shift = 2,\n",
        "        axis =1)"
      ],
      "metadata": {
        "colab": {
          "base_uri": "https://localhost:8080/"
        },
        "id": "SU1h7KpXRxoR",
        "outputId": "d2eca804-5dd2-45e2-bce4-c1d4c02aad0c"
      },
      "execution_count": 56,
      "outputs": [
        {
          "output_type": "execute_result",
          "data": {
            "text/plain": [
              "array([[ 5,  6,  1,  2,  3,  4],\n",
              "       [11, 12,  7,  8,  9, 10],\n",
              "       [17, 18, 13, 14, 15, 16]])"
            ]
          },
          "metadata": {},
          "execution_count": 56
        }
      ]
    },
    {
      "cell_type": "code",
      "source": [
        "# axis = 0 represents rows\n",
        "np.roll(a= two_d_array,\n",
        "        shift =2,\n",
        "        axis =0)"
      ],
      "metadata": {
        "colab": {
          "base_uri": "https://localhost:8080/"
        },
        "id": "fG6jV9L7TEKv",
        "outputId": "0fc2b511-f8e5-4faa-d337-e50c1d9bd633"
      },
      "execution_count": 58,
      "outputs": [
        {
          "output_type": "execute_result",
          "data": {
            "text/plain": [
              "array([[ 7,  8,  9, 10, 11, 12],\n",
              "       [13, 14, 15, 16, 17, 18],\n",
              "       [ 1,  2,  3,  4,  5,  6]])"
            ]
          },
          "metadata": {},
          "execution_count": 58
        }
      ]
    },
    {
      "cell_type": "code",
      "source": [
        "# leave the axis argument empty to shift on a flattend version of the array (shift across all dimension)\n",
        "\n",
        "np.roll(a = two_d_array,\n",
        "        shift =2)"
      ],
      "metadata": {
        "colab": {
          "base_uri": "https://localhost:8080/"
        },
        "id": "63LHFld2TlMB",
        "outputId": "c7d149e4-f236-4de1-c2c8-205f75dcd126"
      },
      "execution_count": 59,
      "outputs": [
        {
          "output_type": "execute_result",
          "data": {
            "text/plain": [
              "array([[17, 18,  1,  2,  3,  4],\n",
              "       [ 5,  6,  7,  8,  9, 10],\n",
              "       [11, 12, 13, 14, 15, 16]])"
            ]
          },
          "metadata": {},
          "execution_count": 59
        }
      ]
    },
    {
      "cell_type": "code",
      "source": [
        "# Join arrays along an axis with np.concatenate()\n",
        "\n",
        "array_to_join = np.array([[10,20,30], [40,50,60], [70,80,90]])\n",
        "\n",
        "np.concatenate((two_d_array, array_to_join),\n",
        "               axis=1)"
      ],
      "metadata": {
        "id": "-dXW8eqZUBo6"
      },
      "execution_count": null,
      "outputs": []
    },
    {
      "cell_type": "markdown",
      "source": [
        "Array Math Operations"
      ],
      "metadata": {
        "id": "VpKWPuSfVjoZ"
      }
    },
    {
      "cell_type": "code",
      "source": [
        "two_d_array + 100    # Add 100 to each element"
      ],
      "metadata": {
        "colab": {
          "base_uri": "https://localhost:8080/"
        },
        "id": "rIRuXesxVkeB",
        "outputId": "7d49133c-79a1-400c-cc99-d138b21cb5d2"
      },
      "execution_count": 66,
      "outputs": [
        {
          "output_type": "execute_result",
          "data": {
            "text/plain": [
              "array([[101, 102, 103, 104, 105, 106],\n",
              "       [107, 108, 109, 110, 111, 112],\n",
              "       [113, 114, 115, 116, 117, 118]])"
            ]
          },
          "metadata": {},
          "execution_count": 66
        }
      ]
    },
    {
      "cell_type": "code",
      "source": [
        "two_d_array -100     # Substract 100 from each element"
      ],
      "metadata": {
        "colab": {
          "base_uri": "https://localhost:8080/"
        },
        "id": "CgXBaUhsVrU5",
        "outputId": "d3be33a7-1622-4d6c-be86-4a51d4c8608c"
      },
      "execution_count": 68,
      "outputs": [
        {
          "output_type": "execute_result",
          "data": {
            "text/plain": [
              "array([[-99, -98, -97, -96, -95, -94],\n",
              "       [-93, -92, -91, -90, -89, -88],\n",
              "       [-87, -86, -85, -84, -83, -82]])"
            ]
          },
          "metadata": {},
          "execution_count": 68
        }
      ]
    },
    {
      "cell_type": "code",
      "source": [
        "two_d_array *2        # Multiply each element by 2"
      ],
      "metadata": {
        "colab": {
          "base_uri": "https://localhost:8080/"
        },
        "id": "VUqklAu9V2KQ",
        "outputId": "4e0a235c-b6b0-494f-b665-b3f8431681cb"
      },
      "execution_count": 69,
      "outputs": [
        {
          "output_type": "execute_result",
          "data": {
            "text/plain": [
              "array([[ 2,  4,  6,  8, 10, 12],\n",
              "       [14, 16, 18, 20, 22, 24],\n",
              "       [26, 28, 30, 32, 34, 36]])"
            ]
          },
          "metadata": {},
          "execution_count": 69
        }
      ]
    },
    {
      "cell_type": "code",
      "source": [
        "two_d_array **2        # Squire each element"
      ],
      "metadata": {
        "colab": {
          "base_uri": "https://localhost:8080/"
        },
        "id": "3VewTdjzV_Zw",
        "outputId": "fa9291ba-0b21-430b-9089-407a044b71f3"
      },
      "execution_count": 70,
      "outputs": [
        {
          "output_type": "execute_result",
          "data": {
            "text/plain": [
              "array([[  1,   4,   9,  16,  25,  36],\n",
              "       [ 49,  64,  81, 100, 121, 144],\n",
              "       [169, 196, 225, 256, 289, 324]])"
            ]
          },
          "metadata": {},
          "execution_count": 70
        }
      ]
    },
    {
      "cell_type": "code",
      "source": [
        "two_d_array % 2        # Take modulus of each element"
      ],
      "metadata": {
        "colab": {
          "base_uri": "https://localhost:8080/"
        },
        "id": "vyo8AZrQWKDI",
        "outputId": "d6bab2a8-855d-441c-85c6-5e851baba279"
      },
      "execution_count": 72,
      "outputs": [
        {
          "output_type": "execute_result",
          "data": {
            "text/plain": [
              "array([[1, 0, 1, 0, 1, 0],\n",
              "       [1, 0, 1, 0, 1, 0],\n",
              "       [1, 0, 1, 0, 1, 0]])"
            ]
          },
          "metadata": {},
          "execution_count": 72
        }
      ]
    },
    {
      "cell_type": "code",
      "source": [
        "small_array1 = np.array([[1,2], [3,4]])        # Adding two array\n",
        "\n",
        "small_array1 + small_array1"
      ],
      "metadata": {
        "colab": {
          "base_uri": "https://localhost:8080/"
        },
        "id": "TyForiRDWT4m",
        "outputId": "c832b5b6-5dd1-4db6-8b67-123f4b1f4de1"
      },
      "execution_count": 73,
      "outputs": [
        {
          "output_type": "execute_result",
          "data": {
            "text/plain": [
              "array([[2, 4],\n",
              "       [6, 8]])"
            ]
          },
          "metadata": {},
          "execution_count": 73
        }
      ]
    },
    {
      "cell_type": "code",
      "source": [
        "small_array1 * small_array1                     # Multiply two array"
      ],
      "metadata": {
        "colab": {
          "base_uri": "https://localhost:8080/"
        },
        "id": "PDPhRRN-Wy2b",
        "outputId": "0849ff91-f7ac-4ed5-fef1-24194cbe59c3"
      },
      "execution_count": 75,
      "outputs": [
        {
          "output_type": "execute_result",
          "data": {
            "text/plain": [
              "array([[ 1,  4],\n",
              "       [ 9, 16]])"
            ]
          },
          "metadata": {},
          "execution_count": 75
        }
      ]
    },
    {
      "cell_type": "code",
      "source": [
        "small_array1 ** small_array1                    # [1^1, 2^2], [3^3, 4^4]"
      ],
      "metadata": {
        "colab": {
          "base_uri": "https://localhost:8080/"
        },
        "id": "8OKA3FeSW8Xf",
        "outputId": "413540fc-c439-44a8-b786-2a8b94202823"
      },
      "execution_count": 76,
      "outputs": [
        {
          "output_type": "execute_result",
          "data": {
            "text/plain": [
              "array([[  1,   4],\n",
              "       [ 27, 256]])"
            ]
          },
          "metadata": {},
          "execution_count": 76
        }
      ]
    },
    {
      "cell_type": "code",
      "source": [
        "# Numpy also offers a variety of named math functions for ndarrays. There are too many to cover in detail here, so we'll just look at a selection of some of the most useful ones for data analysis"
      ],
      "metadata": {
        "id": "ri2KSXmEXva1"
      },
      "execution_count": null,
      "outputs": []
    },
    {
      "cell_type": "code",
      "source": [
        "# Get the mean of all the elements in an array with np.mean()\n",
        "\n",
        "np.mean(two_d_array, axis =1)            # array([ 3.5,  9.5, 15.5])\n",
        "\n",
        "np.mean(two_d_array, axis =0)            # array([ 7.,  8.,  9., 10., 11., 12.])"
      ],
      "metadata": {
        "colab": {
          "base_uri": "https://localhost:8080/"
        },
        "id": "h3hN8u9LX2oL",
        "outputId": "69edb4f0-81ce-4c86-c1de-1cc395356498"
      },
      "execution_count": 81,
      "outputs": [
        {
          "output_type": "execute_result",
          "data": {
            "text/plain": [
              "array([ 7.,  8.,  9., 10., 11., 12.])"
            ]
          },
          "metadata": {},
          "execution_count": 81
        }
      ]
    },
    {
      "cell_type": "code",
      "source": [
        "# Get the standard deviation all the elements in an array with np.std()\n",
        "\n",
        "np.std(two_d_array)"
      ],
      "metadata": {
        "colab": {
          "base_uri": "https://localhost:8080/"
        },
        "id": "CwJ2BzJBYy9d",
        "outputId": "23e1b686-f131-4ba3-d025-4bf80286bbd9"
      },
      "execution_count": 82,
      "outputs": [
        {
          "output_type": "execute_result",
          "data": {
            "text/plain": [
              "5.188127472091127"
            ]
          },
          "metadata": {},
          "execution_count": 82
        }
      ]
    },
    {
      "cell_type": "code",
      "source": [
        "# Provide an axis argument to get standard deviations across a dimension\n",
        "\n",
        "np.std(two_d_array, axis=1)                   # array([1.70782513, 1.70782513, 1.70782513])\n",
        "\n",
        "np.std(two_d_array, axis=0)                   # array([4.89897949, 4.89897949, 4.89897949, 4.89897949, 4.89897949, 4.89897949])"
      ],
      "metadata": {
        "colab": {
          "base_uri": "https://localhost:8080/"
        },
        "id": "Ry7RfaMtY61d",
        "outputId": "ff672c13-86d0-480d-d59d-63eb24d9e2e0"
      },
      "execution_count": 87,
      "outputs": [
        {
          "output_type": "execute_result",
          "data": {
            "text/plain": [
              "array([4.89897949, 4.89897949, 4.89897949, 4.89897949, 4.89897949,\n",
              "       4.89897949])"
            ]
          },
          "metadata": {},
          "execution_count": 87
        }
      ]
    },
    {
      "cell_type": "code",
      "source": [
        "# Sum the elements of an array across an axis with np.sum()\n",
        "\n",
        "np.sum(two_d_array, axis=1)        # Get the row sums\n",
        "\n",
        "np.sum(two_d_array, axis= 0)        # Get the column sums"
      ],
      "metadata": {
        "colab": {
          "base_uri": "https://localhost:8080/"
        },
        "id": "Uoj8xFNGgB0H",
        "outputId": "f6fa8ccf-7a00-46c5-8b2a-ea5a762065eb"
      },
      "execution_count": 88,
      "outputs": [
        {
          "output_type": "execute_result",
          "data": {
            "text/plain": [
              "array([21, 24, 27, 30, 33, 36])"
            ]
          },
          "metadata": {},
          "execution_count": 88
        }
      ]
    },
    {
      "cell_type": "code",
      "source": [
        "# Take the log of each element in an array with np.log()\n",
        "\n",
        "np.log(two_d_array)"
      ],
      "metadata": {
        "colab": {
          "base_uri": "https://localhost:8080/"
        },
        "id": "u4NRX_gpgdZm",
        "outputId": "a65a8bcc-58fe-46d6-e7e9-85319c7e0805"
      },
      "execution_count": 90,
      "outputs": [
        {
          "output_type": "execute_result",
          "data": {
            "text/plain": [
              "array([[0.        , 0.69314718, 1.09861229, 1.38629436, 1.60943791,\n",
              "        1.79175947],\n",
              "       [1.94591015, 2.07944154, 2.19722458, 2.30258509, 2.39789527,\n",
              "        2.48490665],\n",
              "       [2.56494936, 2.63905733, 2.7080502 , 2.77258872, 2.83321334,\n",
              "        2.89037176]])"
            ]
          },
          "metadata": {},
          "execution_count": 90
        }
      ]
    },
    {
      "cell_type": "code",
      "source": [
        "# Take the square root of each element with np.sqrt()\n",
        "\n",
        "np.sqrt(two_d_array)"
      ],
      "metadata": {
        "colab": {
          "base_uri": "https://localhost:8080/"
        },
        "id": "ZivuZa3vgyHW",
        "outputId": "9ba5096d-14ef-4836-a646-24c55e0dab7f"
      },
      "execution_count": 91,
      "outputs": [
        {
          "output_type": "execute_result",
          "data": {
            "text/plain": [
              "array([[1.        , 1.41421356, 1.73205081, 2.        , 2.23606798,\n",
              "        2.44948974],\n",
              "       [2.64575131, 2.82842712, 3.        , 3.16227766, 3.31662479,\n",
              "        3.46410162],\n",
              "       [3.60555128, 3.74165739, 3.87298335, 4.        , 4.12310563,\n",
              "        4.24264069]])"
            ]
          },
          "metadata": {},
          "execution_count": 91
        }
      ]
    },
    {
      "cell_type": "code",
      "source": [
        "# Take the vector dot product of row 0 and row 1\n",
        "\n",
        "np.dot(two_d_array[0,0:],  # Slice row 0\n",
        "       two_d_array[1,0:])  # Slice row 1\n",
        "       "
      ],
      "metadata": {
        "colab": {
          "base_uri": "https://localhost:8080/"
        },
        "id": "Xl0VhhHQgz7d",
        "outputId": "be2a09e9-acb8-4cfd-f972-029220d8e695"
      },
      "execution_count": 92,
      "outputs": [
        {
          "output_type": "execute_result",
          "data": {
            "text/plain": [
              "217"
            ]
          },
          "metadata": {},
          "execution_count": 92
        }
      ]
    },
    {
      "cell_type": "code",
      "source": [
        "# Do a matrix multiply\n",
        "\n",
        "np.dot(small_array1, small_array1)   # multiply 2-dimensional array"
      ],
      "metadata": {
        "colab": {
          "base_uri": "https://localhost:8080/"
        },
        "id": "KrqZATU5g292",
        "outputId": "17c18163-eae5-4f15-f3be-7353c9639d07"
      },
      "execution_count": 98,
      "outputs": [
        {
          "output_type": "execute_result",
          "data": {
            "text/plain": [
              "array([[ 7, 10],\n",
              "       [15, 22]])"
            ]
          },
          "metadata": {},
          "execution_count": 98
        }
      ]
    },
    {
      "cell_type": "code",
      "source": [],
      "metadata": {
        "colab": {
          "base_uri": "https://localhost:8080/"
        },
        "id": "_Y8CZjcZhUhu",
        "outputId": "2fd1e93c-cc2a-4ebd-c574-56f580b27984"
      },
      "execution_count": 97,
      "outputs": [
        {
          "output_type": "execute_result",
          "data": {
            "text/plain": [
              "104"
            ]
          },
          "metadata": {},
          "execution_count": 97
        }
      ]
    },
    {
      "cell_type": "markdown",
      "source": [
        "Wrap up\n",
        "\n",
        "Numpy's ndarray data structure provides many desirable features for working with data, such as element-wise math operations and a variety of functions that work on 2D arrays. Since numpy was built with data analysis in mind, its math operations are optimized for that purpose and are generally faster than what could be achieved if you hand-coded functions to carry out similar operations on lists."
      ],
      "metadata": {
        "id": "72pN6vKCk2nb"
      }
    },
    {
      "cell_type": "code",
      "source": [],
      "metadata": {
        "id": "CRjRL_uok41D"
      },
      "execution_count": null,
      "outputs": []
    }
  ]
}