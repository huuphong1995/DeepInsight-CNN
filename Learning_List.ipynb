{
  "nbformat": 4,
  "nbformat_minor": 0,
  "metadata": {
    "colab": {
      "provenance": [],
      "authorship_tag": "ABX9TyNpBjAAMoMNbkSlVg7QU1ww",
      "include_colab_link": true
    },
    "kernelspec": {
      "name": "python3",
      "display_name": "Python 3"
    },
    "language_info": {
      "name": "python"
    }
  },
  "cells": [
    {
      "cell_type": "markdown",
      "metadata": {
        "id": "view-in-github",
        "colab_type": "text"
      },
      "source": [
        "<a href=\"https://colab.research.google.com/github/huuphong1995/hello-world/blob/master/Learning_List.ipynb\" target=\"_parent\"><img src=\"https://colab.research.google.com/assets/colab-badge.svg\" alt=\"Open In Colab\"/></a>"
      ]
    },
    {
      "cell_type": "code",
      "execution_count": null,
      "metadata": {
        "id": "HtLhlDZFM-Lf"
      },
      "outputs": [],
      "source": [
        "second_list = list(\"Life is Study\")  # Create a list from a string\n",
        "\n",
        "print(second_list)"
      ]
    },
    {
      "cell_type": "code",
      "source": [
        "my_list = [\"Lesson\", 5, \"Is Fun?\", True]\n",
        "empty_list = [1,2,3]\n",
        "combined_list = my_list\n",
        "combined_list.extend(empty_list)\n",
        "print(combined_list)\n"
      ],
      "metadata": {
        "id": "Ry1Gq8PANbCp"
      },
      "execution_count": null,
      "outputs": []
    },
    {
      "cell_type": "code",
      "source": [
        "num_list = [1, 3, 3,3,3,3,5, 7, 9]\n",
        "print( len(num_list))                # Check the length\n",
        "print( max(num_list))                # Check the max\n",
        "print( min(num_list))                # Check the min\n",
        "print( sum(num_list))                # Check the sum\n",
        "print( sum(num_list)/len(num_list))  # Check the mean*"
      ],
      "metadata": {
        "colab": {
          "base_uri": "https://localhost:8080/"
        },
        "id": "CpCT2n9UOVRe",
        "outputId": "30e8a262-664a-48c6-a14a-b90e2a3b198d"
      },
      "execution_count": 12,
      "outputs": [
        {
          "output_type": "stream",
          "name": "stdout",
          "text": [
            "9\n",
            "9\n",
            "1\n",
            "37\n",
            "4.111111111111111\n"
          ]
        }
      ]
    },
    {
      "cell_type": "code",
      "source": [
        "print(1 in num_list)\n",
        "print(4 in num_list)"
      ],
      "metadata": {
        "colab": {
          "base_uri": "https://localhost:8080/"
        },
        "id": "uHrmeXIhOs-M",
        "outputId": "679e886a-8acd-4868-b18e-40730e5a8eb3"
      },
      "execution_count": 13,
      "outputs": [
        {
          "output_type": "stream",
          "name": "stdout",
          "text": [
            "True\n",
            "False\n"
          ]
        }
      ]
    },
    {
      "cell_type": "code",
      "source": [
        "num_list.count(3)"
      ],
      "metadata": {
        "colab": {
          "base_uri": "https://localhost:8080/"
        },
        "id": "NSf2-HEpOzaI",
        "outputId": "b59bc141-626b-4b8a-b482-57cf16d5b49f"
      },
      "execution_count": 15,
      "outputs": [
        {
          "output_type": "execute_result",
          "data": {
            "text/plain": [
              "5"
            ]
          },
          "metadata": {},
          "execution_count": 15
        }
      ]
    },
    {
      "cell_type": "code",
      "source": [
        "new_list = [1, 5, 4, 2, 3, 6]      # Make a new list\n",
        "\n",
        "new_list.reverse()                 # Reverse the list\n",
        "print(\"Reversed list\", new_list)\n",
        "\n",
        "new_list.sort()                    # Sort the list\n",
        "print(\"Sorted list\", new_list)"
      ],
      "metadata": {
        "colab": {
          "base_uri": "https://localhost:8080/"
        },
        "id": "WH2uheD4PBfR",
        "outputId": "ad253eae-a154-4742-f2b8-eefff41081e4"
      },
      "execution_count": 19,
      "outputs": [
        {
          "output_type": "stream",
          "name": "stdout",
          "text": [
            "Reversed list [6, 3, 2, 4, 5, 1]\n",
            "Sorted list [1, 2, 3, 4, 5, 6]\n"
          ]
        }
      ]
    },
    {
      "cell_type": "code",
      "source": [
        "another_list = [\"Hello\",\"my\", \"bestest\", \"old\", \"friend.\"]\n",
        "\n",
        "print (another_list[0])\n",
        "print (another_list[2])\n",
        "\n",
        "my_slice =  another_list[1:3] \n",
        "print(my_slice)\n",
        "\n",
        "my_slice =  another_list[0:3:2]  # Slice the entire list but use step size 2 to get every other item:\n",
        "print(my_slice )\n",
        "\n",
        "slice1 = another_list[:4]   # Slice everything up to index 4\n",
        "print(slice1)\n",
        "\n",
        "my_slice =  another_list[4:1:-1] # Take a slice starting at index 4, backward to index 2\n",
        "print(my_slice )\n",
        "\n",
        "my_slice =  another_list[:]   # This slice operation copies the list\n",
        "print(my_slice)\n",
        "\n",
        "my_slice = another_list[::-1]\n",
        "print(my_slice)"
      ],
      "metadata": {
        "id": "FgaIcWtWPtmv"
      },
      "execution_count": null,
      "outputs": []
    },
    {
      "cell_type": "code",
      "source": [
        "another_list[3] = \"new\"\n",
        "print(another_list)\n",
        "del(another_list[3])\n",
        "print(another_list)"
      ],
      "metadata": {
        "colab": {
          "base_uri": "https://localhost:8080/"
        },
        "id": "3VOcK54LNPo5",
        "outputId": "63fc551b-9903-4653-d1d5-a79781987d0a"
      },
      "execution_count": 4,
      "outputs": [
        {
          "output_type": "stream",
          "name": "stdout",
          "text": [
            "['Hello', 'my', 'bestest', 'new', 'friend.']\n",
            "['Hello', 'my', 'bestest', 'friend.']\n"
          ]
        }
      ]
    },
    {
      "cell_type": "code",
      "source": [
        "# remove the item from the list using the liat.pop() removes the final item in a list and returns it:\n",
        "next_item = another_list.pop()\n",
        "\n",
        "print(next_item)\n",
        "print(another_list)"
      ],
      "metadata": {
        "colab": {
          "base_uri": "https://localhost:8080/"
        },
        "id": "X03h36NSOPWJ",
        "outputId": "4586d139-3849-4a68-ecd8-b360aaadb36b"
      },
      "execution_count": 5,
      "outputs": [
        {
          "output_type": "stream",
          "name": "stdout",
          "text": [
            "friend.\n",
            "['Hello', 'my', 'bestest']\n"
          ]
        }
      ]
    },
    {
      "cell_type": "code",
      "source": [
        "# the copy was not affected by the pop() operation we performed on the original list\n",
        "# This is known as Shallow copycopy\n",
        "# A shallow copy makes a new list where each list element refers to the object at the same position (index) in the original list\n",
        "list1 = [1,2,3]\n",
        "list2 = list1.copy()\n",
        "print(list2)\n",
        "list1.pop()\n",
        "print(list1)\n",
        "print(list2)\n"
      ],
      "metadata": {
        "id": "gMfCUM86Ou6Y"
      },
      "execution_count": null,
      "outputs": []
    },
    {
      "cell_type": "markdown",
      "source": [
        "Shallow Copy"
      ],
      "metadata": {
        "id": "nilZMkvaVU3_"
      }
    },
    {
      "cell_type": "code",
      "source": [
        "list1 = [1,2,3]                        # Make a list\n",
        "\n",
        "list2 = [\"List within a list\", list1]  # Nest it in another list\n",
        "\n",
        "list3 = list2.copy()                   # Shallow copy list2\n",
        "\n",
        "print(\"Before appending to list1:\")\n",
        "print(\"List2:\", list2)\n",
        "print(\"List3:\", list3, \"\\n\")\n",
        "\n",
        "list1.append(4)                        # Add an item to list1\n",
        "print(\"After appending to list1:\")\n",
        "print(\"List2:\", list2)\n",
        "print(\"List3:\", list3)"
      ],
      "metadata": {
        "id": "zc4DUhI-PKP4"
      },
      "execution_count": null,
      "outputs": []
    },
    {
      "cell_type": "markdown",
      "source": [
        "Deepcopy()"
      ],
      "metadata": {
        "id": "OMG3JBUWVHT-"
      }
    },
    {
      "cell_type": "code",
      "source": [
        "import copy                            # Load the copy module\n",
        "\n",
        "list1 = [1,2,3]                        # Make a list\n",
        "\n",
        "list2 = [\"List within a list\", list1]  # Nest it in another list\n",
        "\n",
        "list3 = copy.deepcopy(list2)           # Deep copy list2\n",
        "\n",
        "print(\"Before appending to list1:\")\n",
        "print(\"List2:\", list2)\n",
        "print(\"List3:\", list3, \"\\n\")\n",
        "\n",
        "list1.append(4)                        # Add an item to list1\n",
        "print(\"After appending to list1:\")\n",
        "print(\"List2:\", list2)\n",
        "print(\"List3:\", list3)"
      ],
      "metadata": {
        "id": "NZ6Zw01wPu5v"
      },
      "execution_count": null,
      "outputs": []
    },
    {
      "cell_type": "markdown",
      "source": [
        "Wrap Up\n"
      ],
      "metadata": {
        "id": "2W2CgtP8VBBS"
      }
    },
    {
      "cell_type": "markdown",
      "source": [
        "Lists are one of the most ubiquitous data structures in Python, so it is important to be familiar with them, even though specialized data structures available in libraries are often better suited for data analysis tasks. Despite some quirks like the shallow vs. deep copy issue, lists are very useful as simple data containers."
      ],
      "metadata": {
        "id": "NxvfDg-gVlCC"
      }
    },
    {
      "cell_type": "code",
      "source": [],
      "metadata": {
        "id": "SanVpJeFVqH6"
      },
      "execution_count": null,
      "outputs": []
    }
  ]
}